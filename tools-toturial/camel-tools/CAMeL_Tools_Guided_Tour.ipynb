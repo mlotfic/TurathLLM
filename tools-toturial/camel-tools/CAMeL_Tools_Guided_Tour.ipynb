{
  "nbformat": 4,
  "nbformat_minor": 0,
  "metadata": {
    "kernelspec": {
      "display_name": "Python 3",
      "language": "python",
      "name": "python3"
    },
    "language_info": {
      "codemirror_mode": {
        "name": "ipython",
        "version": 3
      },
      "file_extension": ".py",
      "mimetype": "text/x-python",
      "name": "python",
      "nbconvert_exporter": "python",
      "pygments_lexer": "ipython3",
      "version": "3.7.8"
    },
    "colab": {
      "provenance": [],
      "toc_visible": true
    }
  },
  "cells": [
    {
      "cell_type": "markdown",
      "metadata": {
        "id": "JW2oOVmkJgg-"
      },
      "source": [
        "# Introduction\n",
        "\n",
        "This notebook provides a quick overview of the functionalities provided by [CAMeL Tools](https://github.com/CAMeL-Lab/camel_tools). While it doesn't cover every component in detail, it does provide a starting point for learning CAMeL Tools and navigating its APIs. For more detailed information please refer to the [CAMeL Tools documentation](https://camel-tools.readthedocs.io/en/latest/index.html)."
      ]
    },
    {
      "cell_type": "markdown",
      "metadata": {
        "id": "QOwO9Z7VdWf-"
      },
      "source": [
        "# Arabic NLP Refresher\n",
        "\n",
        "Before diving into CAMeL Tools, we recommend a quick refresher on Arabic NLP and the challenges it presents. [This webinar](https://www.youtube.com/watch?v=HXMKhPoLXqo) presented by Dr. Nizar Habash provides a short introduction on Arabic NLP as well as short examples of how CAMeL Tools can be used to solve various problems. A similar presentation of this webinar in Arabic is also available [here](https://www.youtube.com/watch?v=JQrmRvtx_VY).\n",
        "\n",
        "*Note: The examples in this talk may not be compatible with current or newer versions of CAMeL Tools.*\n"
      ]
    },
    {
      "cell_type": "markdown",
      "metadata": {
        "id": "flp2VnX-14Kz"
      },
      "source": [
        "# Installation and Setup\n",
        "\n",
        "The following steps are needed if you want to run the examples in this notebook on Google Colaboratory. If you want to run this notebook on your own machine, please follow the [installation instructions](https://camel-tools.readthedocs.io/en/latest/getting_started.html#installation) instead."
      ]
    },
    {
      "cell_type": "markdown",
      "metadata": {
        "id": "47wgvS4-6UOD"
      },
      "source": [
        "First, we install the CAMeL Tools Python package."
      ]
    },
    {
      "cell_type": "code",
      "metadata": {
        "id": "WLCWm2nj2LX6"
      },
      "source": [
        "%pip install camel-tools"
      ],
      "execution_count": null,
      "outputs": []
    },
    {
      "cell_type": "markdown",
      "metadata": {
        "id": "7c8-zs9m45B0"
      },
      "source": [
        "In order to use all the components provided in CAMeL Tools, we need to install all the datasets required by these components.\n",
        "To do this in Colab, we need to first mount a Google Drive and create a directory where the data will be installed.\n",
        "\n",
        "Run the code below and follow the instructions in the output."
      ]
    },
    {
      "cell_type": "code",
      "metadata": {
        "id": "rLDEdYgz1OZN"
      },
      "source": [
        "from google.colab import drive\n",
        "import os\n",
        "\n",
        "drive.mount('/gdrive')\n",
        "\n",
        "%mkdir /gdrive/MyDrive/camel_tools"
      ],
      "execution_count": null,
      "outputs": []
    },
    {
      "cell_type": "markdown",
      "metadata": {
        "id": "Fcc0ZaAK5f5F"
      },
      "source": [
        "Next, we need to tell CAMeL Tools to install the data in the newly created directory. This will take a couple of minutes to complete.\n",
        "\n",
        "**NOTE:** You will need around 6GB of available space on your Google Drive to install all the CAMeL Tools data."
      ]
    },
    {
      "cell_type": "code",
      "metadata": {
        "id": "aYsFJl0A5mua"
      },
      "source": [
        "os.environ['CAMELTOOLS_DATA'] = '/gdrive/MyDrive/camel_tools'\n",
        "\n",
        "!export | camel_data -i all"
      ],
      "execution_count": null,
      "outputs": []
    },
    {
      "cell_type": "markdown",
      "metadata": {
        "id": "0zZvcWRx6tQJ"
      },
      "source": [
        "We also provide a lightweight dataset for the Morphology and Disambiguation components **only** that can be installed by calling `camel_data -i light` instead of `camel_data -i all`.\n"
      ]
    },
    {
      "cell_type": "markdown",
      "metadata": {
        "id": "Z-O0aoMczyUj"
      },
      "source": [
        "**Once the data has been installed on your Google Drive, you only need to run the following the next time you want to run this notebook.**"
      ]
    },
    {
      "cell_type": "code",
      "metadata": {
        "id": "9knGLLGg7cnm"
      },
      "source": [
        "%pip install camel-tools\n",
        "\n",
        "from google.colab import drive\n",
        "import os\n",
        "\n",
        "drive.mount('/gdrive')\n",
        "os.environ['CAMELTOOLS_DATA'] = '/gdrive/MyDrive/camel_tools'"
      ],
      "execution_count": null,
      "outputs": []
    },
    {
      "cell_type": "markdown",
      "source": [
        "**Afterwards, you can also update all downloadded datasets by running the following:**"
      ],
      "metadata": {
        "id": "tytu_FAHERy3"
      }
    },
    {
      "cell_type": "code",
      "source": [
        "!export | camel_data -u && camel_data -i all"
      ],
      "metadata": {
        "id": "djNjKtuGEj_I"
      },
      "execution_count": null,
      "outputs": []
    },
    {
      "cell_type": "markdown",
      "metadata": {
        "id": "Q2mkVx2f088f"
      },
      "source": [
        "# Preprocessing"
      ]
    },
    {
      "cell_type": "markdown",
      "metadata": {
        "id": "gBNnYjuE9T_6"
      },
      "source": [
        "CAMeL Tools provides a suite of preprocessing utilities for cleaning and preparing Arabic text. Some of these may need to be used before passing text to other CAMeL Tools components."
      ]
    },
    {
      "cell_type": "markdown",
      "metadata": {
        "id": "r-V9yJNU088w"
      },
      "source": [
        "## Simple Transliteration\n",
        "\n",
        "Simple (or one-to-one) transliteration is the process of translating each Arabic character to/from a single non-Arabic character mapping (or encoding). The most common of these encoding schemes is the Buckwalter scheme and its variants that map Arabic characters to ASCII counterparts. You can see the various encoding schemes supported in CAMeL Tools and how they map to Arabic script [here](https://camel-tools.readthedocs.io/en/latest/reference/encoding_schemes.html).\n",
        "\n",
        "This has many uses including:\n",
        "\n",
        "- Smaller size of Arabic text on disk\n",
        "- Allow non-Arabic speakers and people not familiar with Arabic script to read Arabic text\n",
        "- Easier debugging by eliminating right-to-left display issues\n",
        "\n",
        "Additionally, some Arabic NLP systems and resources use these transliteration schemes internally.\n",
        "\n",
        "The first utility we provide to convert to/from different encodings is the [`CharMapper`](https://camel-tools.readthedocs.io/en/latest/api/utils/charmap.html). In the example below, we use a `CharMapper` to convert text in Arabic script to a Buckwalter encoding."
      ]
    },
    {
      "cell_type": "code",
      "metadata": {
        "id": "2jzBCQ8A088w",
        "colab": {
          "base_uri": "https://localhost:8080/"
        },
        "outputId": "1bf64e38-0d8d-4323-f802-c63fa2443d7b"
      },
      "source": [
        "from camel_tools.utils.charmap import CharMapper\n",
        "\n",
        "sentence = \"ذهبت إلى المكتبة.\"\n",
        "print(sentence)\n",
        "\n",
        "ar2bw = CharMapper.builtin_mapper('ar2bw')\n",
        "\n",
        "sent_bw = ar2bw(sentence)\n",
        "print(sent_bw)"
      ],
      "execution_count": null,
      "outputs": [
        {
          "output_type": "stream",
          "name": "stdout",
          "text": [
            "ذهبت إلى المكتبة.\n",
            "*hbt <lY Almktbp.\n"
          ]
        }
      ]
    },
    {
      "cell_type": "markdown",
      "metadata": {
        "id": "89ZesZuWKzIR"
      },
      "source": [
        "`CharMapper` is a very flexible component that can be used for many other types of text transformations and can be initialized with any character-to-string mapping."
      ]
    },
    {
      "cell_type": "markdown",
      "metadata": {
        "id": "8zHN9cNP088m"
      },
      "source": [
        "## Unicode Normalization\n",
        "\n",
        "Text in Python 3 is represented as a series of [Unicode](https://unicode.org/standard/standard.html) characters. Some characters have different variants, for example the character 'ع' can also be represented as 'ﻊ', 'ﻋ', 'ﻌ' depending on where it appears in a word. For all these forms, we would call 'ع' their canonical form. Furthermore, some Unicode characters are a composition of multiple characters and in some cases can comprise entire phrases. For example, the character 'ﰷ' is a single Unicode character that represents the composition of 'ك' and 'ا'. Unicode decomposition is the process of splitting these composed characters into their individual constituents.\n",
        "\n",
        "These variants and composed forms are generally used for display purposes and are problematic in text processing tasks. To convert Unicode text into something more suitable for text processing, we provide the [`normalize_unicode`](https://camel-tools.readthedocs.io/en/latest/api/utils/normalize.html#camel_tools.utils.normalize.normalize_unicode) function.\n",
        "\n",
        "In the example below, we demonstrate a more extreme example of how `normalize_unicode` converts a composed character into its decomposed form.\n"
      ]
    },
    {
      "cell_type": "code",
      "metadata": {
        "colab": {
          "base_uri": "https://localhost:8080/"
        },
        "id": "xsR9wuFT088o",
        "outputId": "6d80cfc4-c9ce-4ee0-d11b-c3ae765d9a12"
      },
      "source": [
        "from camel_tools.utils.normalize import normalize_unicode\n",
        "\n",
        "sentence = 'ﷺ'\n",
        "print(sentence)\n",
        "\n",
        "sent_norm = normalize_unicode(sentence)\n",
        "print(sent_norm)"
      ],
      "execution_count": null,
      "outputs": [
        {
          "output_type": "stream",
          "name": "stdout",
          "text": [
            "ﷺ\n",
            "صلى الله عليه وسلم\n"
          ]
        }
      ]
    },
    {
      "cell_type": "markdown",
      "metadata": {
        "id": "Tbdr5KrDlQIY"
      },
      "source": [
        "**NOTE:** It is advised to run this function on all text prior to any further preprocessing or use."
      ]
    },
    {
      "cell_type": "markdown",
      "metadata": {
        "id": "fUJ8IaJo088q"
      },
      "source": [
        "## Orthographic Normalization\n",
        "\n",
        "It is common for Arabic speakers to use shortcuts when typing Arabic text.\n",
        "For example, the different variants of the letter alef ('ا', 'آ', 'أ', 'إ') may be typed as just 'ا'. Some of these substitutions can just be the result of typos. The presence of these variations can cause data sparsity and are usually normalized to a single form. Orthographic normalization is the process of converting letter variants or visually similar letters into a single form.\n",
        "\n",
        "We provide a collection of orthographic normalization functions in CAMeL Tools. The example below demonstrates a few of them."
      ]
    },
    {
      "cell_type": "code",
      "metadata": {
        "id": "hVN6ZsVV088r",
        "colab": {
          "base_uri": "https://localhost:8080/"
        },
        "outputId": "0527b059-b5bf-47eb-fc81-d676b3efe21e"
      },
      "source": [
        "from camel_tools.utils.normalize import normalize_alef_maksura_ar\n",
        "from camel_tools.utils.normalize import normalize_alef_ar\n",
        "from camel_tools.utils.normalize import normalize_teh_marbuta_ar\n",
        "\n",
        "sentence = \"هل ذهبت إلى المكتبة؟\"\n",
        "print(sentence)\n",
        "\n",
        "# Normalize alef variants to 'ا'\n",
        "sent_norm = normalize_alef_ar(sentence)\n",
        "print(sent_norm)\n",
        "\n",
        "# Normalize alef maksura 'ى' to yeh 'ي'\n",
        "sent_norm = normalize_alef_maksura_ar(sent_norm)\n",
        "print(sent_norm)\n",
        "\n",
        "# Normalize teh marbuta 'ة' to heh 'ه'\n",
        "sent_norm = normalize_teh_marbuta_ar(sent_norm)\n",
        "print(sent_norm)"
      ],
      "execution_count": null,
      "outputs": [
        {
          "output_type": "stream",
          "name": "stdout",
          "text": [
            "هل ذهبت إلى المكتبة؟\n",
            "هل ذهبت الى المكتبة؟\n",
            "هل ذهبت الي المكتبة؟\n",
            "هل ذهبت الي المكتبه؟\n"
          ]
        }
      ]
    },
    {
      "cell_type": "markdown",
      "metadata": {
        "id": "rawo1cAJPCOC"
      },
      "source": [
        "The example above performs orthographic normalization on Arabic script. We provide variants of these functions for other encoding schemes as well (e.g. Buckwalter, Safe Buckwalter, etc). See [here](https://camel-tools.readthedocs.io/en/latest/api/utils/normalize.html) for more information.\n"
      ]
    },
    {
      "cell_type": "markdown",
      "metadata": {
        "id": "vhD5hMgA088t"
      },
      "source": [
        "## Dediacritization\n",
        "\n",
        "Dediacritization is the process of removing Arabic diacritical marks. Diacritics increase data sparsity and so most Arabic NLP techniques ignore them. The example below shows how diacritics can be removed from Arabic text using the [`dediac_ar`](https://camel-tools.readthedocs.io/en/latest/api/utils/dediac.html#camel_tools.utils.dediac.dediac_ar) function:"
      ]
    },
    {
      "cell_type": "code",
      "metadata": {
        "id": "Np_JWmFq088u",
        "colab": {
          "base_uri": "https://localhost:8080/"
        },
        "outputId": "61877ff3-693d-441a-8293-f62ff4d8c8ed"
      },
      "source": [
        "from camel_tools.utils.dediac import dediac_ar\n",
        "\n",
        "sentence = \"هَلْ ذَهَبْتَ إِلَى المَكْتَبَةِ؟\"\n",
        "print(sentence)\n",
        "\n",
        "sent_dediac = dediac_ar(sentence)\n",
        "print(sent_dediac)"
      ],
      "execution_count": null,
      "outputs": [
        {
          "output_type": "stream",
          "name": "stdout",
          "text": [
            "هَلْ ذَهَبْتَ إِلَى المَكْتَبَةِ؟\n",
            "هل ذهبت إلى المكتبة؟\n"
          ]
        }
      ]
    },
    {
      "cell_type": "markdown",
      "metadata": {
        "id": "i2I9gP03CHrR"
      },
      "source": [
        "We provide dediacritization functions for other encoding schemes (eg. Buckwalter, Safe Buckwalter, etc) which you can learn more about [here](https://camel-tools.readthedocs.io/en/latest/api/utils/dediac.html).\n"
      ]
    },
    {
      "cell_type": "markdown",
      "metadata": {
        "id": "wQw096Uw088u"
      },
      "source": [
        "## Word Tokenization"
      ]
    },
    {
      "cell_type": "markdown",
      "metadata": {
        "id": "7-Dr0J4W_-Bp"
      },
      "source": [
        "Some CAMeL Tools components expect text to be pretokenized by whitespace and punctuation. This means that an input sentence should be an array of words and punctuation instead of a single string. This is to preserve the alignment of inputs and outputs.\n",
        "\n",
        "Python does provide the `split()` method to tokenize words by whitespace but it doesn't seperate punctuation from words. For example:"
      ]
    },
    {
      "cell_type": "code",
      "metadata": {
        "colab": {
          "base_uri": "https://localhost:8080/"
        },
        "id": "zqLIIGGim5nm",
        "outputId": "8ab128ea-a4ce-416a-fea9-685e91c96605"
      },
      "source": [
        "sentence = \"هَلْ ذَهَبْتَ إِلَى المَكْتَبَةِ؟\"\n",
        "print(sentence)\n",
        "\n",
        "sent_split = sentence.split()\n",
        "print(sent_split)"
      ],
      "execution_count": null,
      "outputs": [
        {
          "output_type": "stream",
          "name": "stdout",
          "text": [
            "هَلْ ذَهَبْتَ إِلَى المَكْتَبَةِ؟\n",
            "['هَلْ', 'ذَهَبْتَ', 'إِلَى', 'المَكْتَبَةِ؟']\n"
          ]
        }
      ]
    },
    {
      "cell_type": "markdown",
      "metadata": {
        "id": "6Sju7VQ6m3h5"
      },
      "source": [
        "To split by whitespace and seperate punctuation, we currently provide the utility function [`simple_word_tokenize`](https://camel-tools.readthedocs.io/en/latest/api/tokenizers/word.html#camel_tools.tokenizers.word.simple_word_tokenize). The example below is similar to the one above, but this time we use `simple_word_tokenize()` instead of `split()`."
      ]
    },
    {
      "cell_type": "code",
      "metadata": {
        "id": "WxbPNRCU088v",
        "colab": {
          "base_uri": "https://localhost:8080/"
        },
        "outputId": "117fd717-cad4-43ea-febd-861f40db5d59"
      },
      "source": [
        "from camel_tools.tokenizers.word import simple_word_tokenize\n",
        "\n",
        "sentence = \"هَلْ ذَهَبْتَ إِلَى المَكْتَبَةِ؟\"\n",
        "print(sentence)\n",
        "\n",
        "sent_split = simple_word_tokenize(sentence)\n",
        "print(sent_split)"
      ],
      "execution_count": null,
      "outputs": [
        {
          "output_type": "stream",
          "name": "stdout",
          "text": [
            "هَلْ ذَهَبْتَ إِلَى المَكْتَبَةِ؟\n",
            "['هَلْ', 'ذَهَبْتَ', 'إِلَى', 'المَكْتَبَةِ', '؟']\n"
          ]
        }
      ]
    },
    {
      "cell_type": "markdown",
      "metadata": {
        "id": "7AMRqZE9A8tj"
      },
      "source": [
        "**NOTE:** `simple_word_tokenize`, as the name suggests is very simple and does not do anything fancy. It will seperate all punctuation regardless of context (ie. hashtags, emails, abbreviations, etc.)"
      ]
    },
    {
      "cell_type": "markdown",
      "metadata": {
        "id": "Nv4xaPCX088y"
      },
      "source": [
        "# Morphology"
      ]
    },
    {
      "cell_type": "markdown",
      "metadata": {
        "id": "-7zdJFwRDUQ1"
      },
      "source": [
        "CAMeL Tools provides a powerful morphological analysis, generation and reinflection system. This system is powered by [morphological databases](https://camel-tools.readthedocs.io/en/latest/api/morphology/database.html#databases) that are comprised of lexicons and compatibility tables. See [here](https://www.aclweb.org/anthology/W18-5816.pdf) for more details."
      ]
    },
    {
      "cell_type": "markdown",
      "metadata": {
        "id": "si9YcVbY088z"
      },
      "source": [
        "## Analysis\n"
      ]
    },
    {
      "cell_type": "markdown",
      "metadata": {
        "id": "U7JXVSeA8-rr"
      },
      "source": [
        "Morphological analysis is the process of generating all possible readings (analyses) of a given word out of context. All analyses are generated from the undiacritized form of the input word. Each of these analyses is defined by a set lexical and morphological features."
      ]
    },
    {
      "cell_type": "code",
      "metadata": {
        "id": "MtzSgEBl088z",
        "colab": {
          "base_uri": "https://localhost:8080/"
        },
        "outputId": "2693975f-53d8-49d7-ac0c-be7c5bfacc82"
      },
      "source": [
        "from camel_tools.morphology.database import MorphologyDB\n",
        "from camel_tools.morphology.analyzer import Analyzer\n",
        "\n",
        "# First, we need to load a morphological database.\n",
        "# Here, we load the default database which is used for analyzing\n",
        "# Modern Standard Arabic.\n",
        "db = MorphologyDB.builtin_db()\n",
        "\n",
        "analyzer = Analyzer(db)\n",
        "\n",
        "analyses = analyzer.analyze('عقد')\n",
        "\n",
        "for analysis in analyses:\n",
        "    print(analysis, '\\n')"
      ],
      "execution_count": null,
      "outputs": [
        {
          "output_type": "stream",
          "name": "stdout",
          "text": [
            "{'diac': 'عَقْد', 'lex': 'عَقْد', 'bw': 'عَقْد/NOUN', 'gloss': 'contract;agreement', 'pos': 'noun', 'prc3': '0', 'prc2': '0', 'prc1': '0', 'prc0': '0', 'per': 'na', 'asp': 'na', 'vox': 'na', 'mod': 'na', 'stt': 'i', 'cas': 'u', 'enc0': '0', 'rat': 'i', 'source': 'lex', 'form_gen': 'm', 'form_num': 's', 'd3seg': 'عَقْد', 'caphi': '3_a_q_d', 'd1tok': 'عَقْد', 'd2tok': 'عَقْد', 'pos_logprob': -0.4344233, 'd3tok': 'عَقْد', 'd2seg': 'عَقْد', 'pos_lex_logprob': -3.74254, 'num': 's', 'ud': 'NOUN', 'gen': 'm', 'catib6': 'NOM', 'root': 'ع.ق.د', 'bwtok': 'عَقْد', 'pattern': '1َ2ْ3', 'lex_logprob': -3.74254, 'atbtok': 'عَقْد', 'atbseg': 'عَقْد', 'd1seg': 'عَقْد', 'stem': 'عَقْد', 'stemgloss': 'contract;agreement', 'stemcat': 'Ndu'} \n",
            "\n",
            "{'diac': 'عَقْدَ', 'lex': 'عَقْد', 'bw': 'عَقْد/NOUN+َ/CASE_DEF_ACC', 'gloss': 'contract;agreement+[def.acc.]', 'pos': 'noun', 'prc3': '0', 'prc2': '0', 'prc1': '0', 'prc0': '0', 'per': 'na', 'asp': 'na', 'vox': 'na', 'mod': 'na', 'stt': 'c', 'cas': 'a', 'enc0': '0', 'rat': 'i', 'source': 'lex', 'form_gen': 'm', 'form_num': 's', 'd3seg': 'عَقْدَ', 'caphi': '3_a_q_d_a', 'd1tok': 'عَقْدَ', 'd2tok': 'عَقْدَ', 'pos_logprob': -0.4344233, 'd3tok': 'عَقْدَ', 'd2seg': 'عَقْدَ', 'pos_lex_logprob': -3.74254, 'num': 's', 'ud': 'NOUN', 'gen': 'm', 'catib6': 'NOM', 'root': 'ع.ق.د', 'bwtok': 'عَقْد_+َ', 'pattern': '1َ2ْ3َ', 'lex_logprob': -3.74254, 'atbtok': 'عَقْدَ', 'atbseg': 'عَقْدَ', 'd1seg': 'عَقْدَ', 'stem': 'عَقْد', 'stemgloss': 'contract;agreement', 'stemcat': 'Ndu'} \n",
            "\n",
            "{'diac': 'عَقْدٌ', 'lex': 'عَقْد', 'bw': 'عَقْد/NOUN+ٌ/CASE_INDEF_NOM', 'gloss': 'contract;agreement+[indef.nom.]', 'pos': 'noun', 'prc3': '0', 'prc2': '0', 'prc1': '0', 'prc0': '0', 'per': 'na', 'asp': 'na', 'vox': 'na', 'mod': 'na', 'stt': 'i', 'cas': 'n', 'enc0': '0', 'rat': 'i', 'source': 'lex', 'form_gen': 'm', 'form_num': 's', 'd3seg': 'عَقْدٌ', 'caphi': '3_a_q_d_u_n', 'd1tok': 'عَقْدٌ', 'd2tok': 'عَقْدٌ', 'pos_logprob': -0.4344233, 'd3tok': 'عَقْدٌ', 'd2seg': 'عَقْدٌ', 'pos_lex_logprob': -3.74254, 'num': 's', 'ud': 'NOUN', 'gen': 'm', 'catib6': 'NOM', 'root': 'ع.ق.د', 'bwtok': 'عَقْد_+ٌ', 'pattern': '1َ2ْ3ٌ', 'lex_logprob': -3.74254, 'atbtok': 'عَقْدٌ', 'atbseg': 'عَقْدٌ', 'd1seg': 'عَقْدٌ', 'stem': 'عَقْد', 'stemgloss': 'contract;agreement', 'stemcat': 'Ndu'} \n",
            "\n",
            "{'diac': 'عَقْدِ', 'lex': 'عَقْد', 'bw': 'عَقْد/NOUN+ِ/CASE_DEF_GEN', 'gloss': 'contract;agreement+[def.gen.]', 'pos': 'noun', 'prc3': '0', 'prc2': '0', 'prc1': '0', 'prc0': '0', 'per': 'na', 'asp': 'na', 'vox': 'na', 'mod': 'na', 'stt': 'c', 'cas': 'g', 'enc0': '0', 'rat': 'i', 'source': 'lex', 'form_gen': 'm', 'form_num': 's', 'd3seg': 'عَقْدِ', 'caphi': '3_a_q_d_i', 'd1tok': 'عَقْدِ', 'd2tok': 'عَقْدِ', 'pos_logprob': -0.4344233, 'd3tok': 'عَقْدِ', 'd2seg': 'عَقْدِ', 'pos_lex_logprob': -3.74254, 'num': 's', 'ud': 'NOUN', 'gen': 'm', 'catib6': 'NOM', 'root': 'ع.ق.د', 'bwtok': 'عَقْد_+ِ', 'pattern': '1َ2ْ3ِ', 'lex_logprob': -3.74254, 'atbtok': 'عَقْدِ', 'atbseg': 'عَقْدِ', 'd1seg': 'عَقْدِ', 'stem': 'عَقْد', 'stemgloss': 'contract;agreement', 'stemcat': 'Ndu'} \n",
            "\n",
            "{'diac': 'عَقْدٍ', 'lex': 'عَقْد', 'bw': 'عَقْد/NOUN+ٍ/CASE_INDEF_GEN', 'gloss': 'contract;agreement+[indef.gen.]', 'pos': 'noun', 'prc3': '0', 'prc2': '0', 'prc1': '0', 'prc0': '0', 'per': 'na', 'asp': 'na', 'vox': 'na', 'mod': 'na', 'stt': 'i', 'cas': 'g', 'enc0': '0', 'rat': 'i', 'source': 'lex', 'form_gen': 'm', 'form_num': 's', 'd3seg': 'عَقْدٍ', 'caphi': '3_a_q_d_i_n', 'd1tok': 'عَقْدٍ', 'd2tok': 'عَقْدٍ', 'pos_logprob': -0.4344233, 'd3tok': 'عَقْدٍ', 'd2seg': 'عَقْدٍ', 'pos_lex_logprob': -3.74254, 'num': 's', 'ud': 'NOUN', 'gen': 'm', 'catib6': 'NOM', 'root': 'ع.ق.د', 'bwtok': 'عَقْد_+ٍ', 'pattern': '1َ2ْ3ٍ', 'lex_logprob': -3.74254, 'atbtok': 'عَقْدٍ', 'atbseg': 'عَقْدٍ', 'd1seg': 'عَقْدٍ', 'stem': 'عَقْد', 'stemgloss': 'contract;agreement', 'stemcat': 'Ndu'} \n",
            "\n",
            "{'diac': 'عَقْدُ', 'lex': 'عَقْد', 'bw': 'عَقْد/NOUN+ُ/CASE_DEF_NOM', 'gloss': 'contract;agreement+[def.nom.]', 'pos': 'noun', 'prc3': '0', 'prc2': '0', 'prc1': '0', 'prc0': '0', 'per': 'na', 'asp': 'na', 'vox': 'na', 'mod': 'na', 'stt': 'c', 'cas': 'n', 'enc0': '0', 'rat': 'i', 'source': 'lex', 'form_gen': 'm', 'form_num': 's', 'd3seg': 'عَقْدُ', 'caphi': '3_a_q_d_u', 'd1tok': 'عَقْدُ', 'd2tok': 'عَقْدُ', 'pos_logprob': -0.4344233, 'd3tok': 'عَقْدُ', 'd2seg': 'عَقْدُ', 'pos_lex_logprob': -3.74254, 'num': 's', 'ud': 'NOUN', 'gen': 'm', 'catib6': 'NOM', 'root': 'ع.ق.د', 'bwtok': 'عَقْد_+ُ', 'pattern': '1َ2ْ3ُ', 'lex_logprob': -3.74254, 'atbtok': 'عَقْدُ', 'atbseg': 'عَقْدُ', 'd1seg': 'عَقْدُ', 'stem': 'عَقْد', 'stemgloss': 'contract;agreement', 'stemcat': 'Ndu'} \n",
            "\n",
            "{'diac': 'عُقَد', 'lex': 'عُقْدَة', 'bw': 'عُقَد/NOUN', 'gloss': 'complexes', 'pos': 'noun', 'prc3': '0', 'prc2': '0', 'prc1': '0', 'prc0': '0', 'per': 'na', 'asp': 'na', 'vox': 'na', 'mod': 'na', 'stt': 'i', 'cas': 'u', 'enc0': '0', 'rat': 'i', 'source': 'lex', 'form_gen': 'm', 'form_num': 's', 'd3seg': 'عُقَد', 'caphi': '3_u_q_a_d', 'd1tok': 'عُقَد', 'd2tok': 'عُقَد', 'pos_logprob': -0.4344233, 'd3tok': 'عُقَد', 'd2seg': 'عُقَد', 'pos_lex_logprob': -4.923429, 'num': 'p', 'ud': 'NOUN', 'gen': 'f', 'catib6': 'NOM', 'root': 'ع.ق.د', 'bwtok': 'عُقَد', 'pattern': '1ُ2َ3', 'lex_logprob': -4.923429, 'atbtok': 'عُقَد', 'atbseg': 'عُقَد', 'd1seg': 'عُقَد', 'stem': 'عُقَد', 'stemgloss': 'complexes', 'stemcat': 'N'} \n",
            "\n",
            "{'diac': 'عُقَدَ', 'lex': 'عُقْدَة', 'bw': 'عُقَد/NOUN+َ/CASE_DEF_ACC', 'gloss': 'complexes+[def.acc.]', 'pos': 'noun', 'prc3': '0', 'prc2': '0', 'prc1': '0', 'prc0': '0', 'per': 'na', 'asp': 'na', 'vox': 'na', 'mod': 'na', 'stt': 'c', 'cas': 'a', 'enc0': '0', 'rat': 'i', 'source': 'lex', 'form_gen': 'm', 'form_num': 's', 'd3seg': 'عُقَدَ', 'caphi': '3_u_q_a_d_a', 'd1tok': 'عُقَدَ', 'd2tok': 'عُقَدَ', 'pos_logprob': -0.4344233, 'd3tok': 'عُقَدَ', 'd2seg': 'عُقَدَ', 'pos_lex_logprob': -4.923429, 'num': 'p', 'ud': 'NOUN', 'gen': 'f', 'catib6': 'NOM', 'root': 'ع.ق.د', 'bwtok': 'عُقَد_+َ', 'pattern': '1ُ2َ3َ', 'lex_logprob': -4.923429, 'atbtok': 'عُقَدَ', 'atbseg': 'عُقَدَ', 'd1seg': 'عُقَدَ', 'stem': 'عُقَد', 'stemgloss': 'complexes', 'stemcat': 'N'} \n",
            "\n",
            "{'diac': 'عُقَدٌ', 'lex': 'عُقْدَة', 'bw': 'عُقَد/NOUN+ٌ/CASE_INDEF_NOM', 'gloss': 'complexes+[indef.nom.]', 'pos': 'noun', 'prc3': '0', 'prc2': '0', 'prc1': '0', 'prc0': '0', 'per': 'na', 'asp': 'na', 'vox': 'na', 'mod': 'na', 'stt': 'i', 'cas': 'n', 'enc0': '0', 'rat': 'i', 'source': 'lex', 'form_gen': 'm', 'form_num': 's', 'd3seg': 'عُقَدٌ', 'caphi': '3_u_q_a_d_u_n', 'd1tok': 'عُقَدٌ', 'd2tok': 'عُقَدٌ', 'pos_logprob': -0.4344233, 'd3tok': 'عُقَدٌ', 'd2seg': 'عُقَدٌ', 'pos_lex_logprob': -4.923429, 'num': 'p', 'ud': 'NOUN', 'gen': 'f', 'catib6': 'NOM', 'root': 'ع.ق.د', 'bwtok': 'عُقَد_+ٌ', 'pattern': '1ُ2َ3ٌ', 'lex_logprob': -4.923429, 'atbtok': 'عُقَدٌ', 'atbseg': 'عُقَدٌ', 'd1seg': 'عُقَدٌ', 'stem': 'عُقَد', 'stemgloss': 'complexes', 'stemcat': 'N'} \n",
            "\n",
            "{'diac': 'عُقَدِ', 'lex': 'عُقْدَة', 'bw': 'عُقَد/NOUN+ِ/CASE_DEF_GEN', 'gloss': 'complexes+[def.gen.]', 'pos': 'noun', 'prc3': '0', 'prc2': '0', 'prc1': '0', 'prc0': '0', 'per': 'na', 'asp': 'na', 'vox': 'na', 'mod': 'na', 'stt': 'c', 'cas': 'g', 'enc0': '0', 'rat': 'i', 'source': 'lex', 'form_gen': 'm', 'form_num': 's', 'd3seg': 'عُقَدِ', 'caphi': '3_u_q_a_d_i', 'd1tok': 'عُقَدِ', 'd2tok': 'عُقَدِ', 'pos_logprob': -0.4344233, 'd3tok': 'عُقَدِ', 'd2seg': 'عُقَدِ', 'pos_lex_logprob': -4.923429, 'num': 'p', 'ud': 'NOUN', 'gen': 'f', 'catib6': 'NOM', 'root': 'ع.ق.د', 'bwtok': 'عُقَد_+ِ', 'pattern': '1ُ2َ3ِ', 'lex_logprob': -4.923429, 'atbtok': 'عُقَدِ', 'atbseg': 'عُقَدِ', 'd1seg': 'عُقَدِ', 'stem': 'عُقَد', 'stemgloss': 'complexes', 'stemcat': 'N'} \n",
            "\n",
            "{'diac': 'عُقَدٍ', 'lex': 'عُقْدَة', 'bw': 'عُقَد/NOUN+ٍ/CASE_INDEF_GEN', 'gloss': 'complexes+[indef.gen.]', 'pos': 'noun', 'prc3': '0', 'prc2': '0', 'prc1': '0', 'prc0': '0', 'per': 'na', 'asp': 'na', 'vox': 'na', 'mod': 'na', 'stt': 'i', 'cas': 'g', 'enc0': '0', 'rat': 'i', 'source': 'lex', 'form_gen': 'm', 'form_num': 's', 'd3seg': 'عُقَدٍ', 'caphi': '3_u_q_a_d_i_n', 'd1tok': 'عُقَدٍ', 'd2tok': 'عُقَدٍ', 'pos_logprob': -0.4344233, 'd3tok': 'عُقَدٍ', 'd2seg': 'عُقَدٍ', 'pos_lex_logprob': -4.923429, 'num': 'p', 'ud': 'NOUN', 'gen': 'f', 'catib6': 'NOM', 'root': 'ع.ق.د', 'bwtok': 'عُقَد_+ٍ', 'pattern': '1ُ2َ3ٍ', 'lex_logprob': -4.923429, 'atbtok': 'عُقَدٍ', 'atbseg': 'عُقَدٍ', 'd1seg': 'عُقَدٍ', 'stem': 'عُقَد', 'stemgloss': 'complexes', 'stemcat': 'N'} \n",
            "\n",
            "{'diac': 'عُقَدُ', 'lex': 'عُقْدَة', 'bw': 'عُقَد/NOUN+ُ/CASE_DEF_NOM', 'gloss': 'complexes+[def.nom.]', 'pos': 'noun', 'prc3': '0', 'prc2': '0', 'prc1': '0', 'prc0': '0', 'per': 'na', 'asp': 'na', 'vox': 'na', 'mod': 'na', 'stt': 'c', 'cas': 'n', 'enc0': '0', 'rat': 'i', 'source': 'lex', 'form_gen': 'm', 'form_num': 's', 'd3seg': 'عُقَدُ', 'caphi': '3_u_q_a_d_u', 'd1tok': 'عُقَدُ', 'd2tok': 'عُقَدُ', 'pos_logprob': -0.4344233, 'd3tok': 'عُقَدُ', 'd2seg': 'عُقَدُ', 'pos_lex_logprob': -4.923429, 'num': 'p', 'ud': 'NOUN', 'gen': 'f', 'catib6': 'NOM', 'root': 'ع.ق.د', 'bwtok': 'عُقَد_+ُ', 'pattern': '1ُ2َ3ُ', 'lex_logprob': -4.923429, 'atbtok': 'عُقَدُ', 'atbseg': 'عُقَدُ', 'd1seg': 'عُقَدُ', 'stem': 'عُقَد', 'stemgloss': 'complexes', 'stemcat': 'N'} \n",
            "\n",
            "{'diac': 'عَقَّدَ', 'lex': 'عَقَّد', 'bw': 'عَقَّد/PV+َ/PVSUFF_SUBJ:3MS', 'gloss': 'complicate+he;it_<verb>', 'pos': 'verb', 'prc3': '0', 'prc2': '0', 'prc1': '0', 'prc0': '0', 'per': '3', 'asp': 'p', 'vox': 'a', 'mod': 'i', 'stt': 'na', 'cas': 'na', 'enc0': '0', 'rat': 'n', 'source': 'lex', 'form_gen': 'm', 'form_num': 's', 'd3seg': 'عَقَّدَ', 'caphi': '3_a_q_q_a_d_a', 'd1tok': 'عَقَّدَ', 'd2tok': 'عَقَّدَ', 'pos_logprob': -1.023208, 'd3tok': 'عَقَّدَ', 'd2seg': 'عَقَّدَ', 'pos_lex_logprob': -5.22446, 'num': 's', 'ud': 'VERB', 'gen': 'm', 'catib6': 'VRB', 'root': 'ع.ق.د', 'bwtok': 'عَقَّد_+َ', 'pattern': '1َ2َّ3َ', 'lex_logprob': -5.22446, 'atbtok': 'عَقَّدَ', 'atbseg': 'عَقَّدَ', 'd1seg': 'عَقَّدَ', 'stem': 'عَقَّد', 'stemgloss': 'complicate', 'stemcat': 'PV'} \n",
            "\n",
            "{'diac': 'عَقْد', 'lex': 'عَقْد', 'bw': 'عَقْد/NOUN', 'gloss': 'holding;concluding;convening', 'pos': 'noun', 'prc3': '0', 'prc2': '0', 'prc1': '0', 'prc0': '0', 'per': 'na', 'asp': 'na', 'vox': 'na', 'mod': 'na', 'stt': 'i', 'cas': 'u', 'enc0': '0', 'rat': 'i', 'source': 'lex', 'form_gen': 'm', 'form_num': 's', 'd3seg': 'عَقْد', 'caphi': '3_a_q_d', 'd1tok': 'عَقْد', 'd2tok': 'عَقْد', 'pos_logprob': -0.4344233, 'd3tok': 'عَقْد', 'd2seg': 'عَقْد', 'pos_lex_logprob': -3.604671, 'num': 's', 'ud': 'NOUN', 'gen': 'm', 'catib6': 'NOM', 'root': 'ع.ق.د', 'bwtok': 'عَقْد', 'pattern': '1َ2ْ3', 'lex_logprob': -3.604671, 'atbtok': 'عَقْد', 'atbseg': 'عَقْد', 'd1seg': 'عَقْد', 'stem': 'عَقْد', 'stemgloss': 'holding;concluding;convening', 'stemcat': 'N'} \n",
            "\n",
            "{'diac': 'عَقْدَ', 'lex': 'عَقْد', 'bw': 'عَقْد/NOUN+َ/CASE_DEF_ACC', 'gloss': 'holding;concluding;convening+[def.acc.]', 'pos': 'noun', 'prc3': '0', 'prc2': '0', 'prc1': '0', 'prc0': '0', 'per': 'na', 'asp': 'na', 'vox': 'na', 'mod': 'na', 'stt': 'c', 'cas': 'a', 'enc0': '0', 'rat': 'i', 'source': 'lex', 'form_gen': 'm', 'form_num': 's', 'd3seg': 'عَقْدَ', 'caphi': '3_a_q_d_a', 'd1tok': 'عَقْدَ', 'd2tok': 'عَقْدَ', 'pos_logprob': -0.4344233, 'd3tok': 'عَقْدَ', 'd2seg': 'عَقْدَ', 'pos_lex_logprob': -3.604671, 'num': 's', 'ud': 'NOUN', 'gen': 'm', 'catib6': 'NOM', 'root': 'ع.ق.د', 'bwtok': 'عَقْد_+َ', 'pattern': '1َ2ْ3َ', 'lex_logprob': -3.604671, 'atbtok': 'عَقْدَ', 'atbseg': 'عَقْدَ', 'd1seg': 'عَقْدَ', 'stem': 'عَقْد', 'stemgloss': 'holding;concluding;convening', 'stemcat': 'N'} \n",
            "\n",
            "{'diac': 'عَقْدٌ', 'lex': 'عَقْد', 'bw': 'عَقْد/NOUN+ٌ/CASE_INDEF_NOM', 'gloss': 'holding;concluding;convening+[indef.nom.]', 'pos': 'noun', 'prc3': '0', 'prc2': '0', 'prc1': '0', 'prc0': '0', 'per': 'na', 'asp': 'na', 'vox': 'na', 'mod': 'na', 'stt': 'i', 'cas': 'n', 'enc0': '0', 'rat': 'i', 'source': 'lex', 'form_gen': 'm', 'form_num': 's', 'd3seg': 'عَقْدٌ', 'caphi': '3_a_q_d_u_n', 'd1tok': 'عَقْدٌ', 'd2tok': 'عَقْدٌ', 'pos_logprob': -0.4344233, 'd3tok': 'عَقْدٌ', 'd2seg': 'عَقْدٌ', 'pos_lex_logprob': -3.604671, 'num': 's', 'ud': 'NOUN', 'gen': 'm', 'catib6': 'NOM', 'root': 'ع.ق.د', 'bwtok': 'عَقْد_+ٌ', 'pattern': '1َ2ْ3ٌ', 'lex_logprob': -3.604671, 'atbtok': 'عَقْدٌ', 'atbseg': 'عَقْدٌ', 'd1seg': 'عَقْدٌ', 'stem': 'عَقْد', 'stemgloss': 'holding;concluding;convening', 'stemcat': 'N'} \n",
            "\n",
            "{'diac': 'عَقْدِ', 'lex': 'عَقْد', 'bw': 'عَقْد/NOUN+ِ/CASE_DEF_GEN', 'gloss': 'holding;concluding;convening+[def.gen.]', 'pos': 'noun', 'prc3': '0', 'prc2': '0', 'prc1': '0', 'prc0': '0', 'per': 'na', 'asp': 'na', 'vox': 'na', 'mod': 'na', 'stt': 'c', 'cas': 'g', 'enc0': '0', 'rat': 'i', 'source': 'lex', 'form_gen': 'm', 'form_num': 's', 'd3seg': 'عَقْدِ', 'caphi': '3_a_q_d_i', 'd1tok': 'عَقْدِ', 'd2tok': 'عَقْدِ', 'pos_logprob': -0.4344233, 'd3tok': 'عَقْدِ', 'd2seg': 'عَقْدِ', 'pos_lex_logprob': -3.604671, 'num': 's', 'ud': 'NOUN', 'gen': 'm', 'catib6': 'NOM', 'root': 'ع.ق.د', 'bwtok': 'عَقْد_+ِ', 'pattern': '1َ2ْ3ِ', 'lex_logprob': -3.604671, 'atbtok': 'عَقْدِ', 'atbseg': 'عَقْدِ', 'd1seg': 'عَقْدِ', 'stem': 'عَقْد', 'stemgloss': 'holding;concluding;convening', 'stemcat': 'N'} \n",
            "\n",
            "{'diac': 'عَقْدٍ', 'lex': 'عَقْد', 'bw': 'عَقْد/NOUN+ٍ/CASE_INDEF_GEN', 'gloss': 'holding;concluding;convening+[indef.gen.]', 'pos': 'noun', 'prc3': '0', 'prc2': '0', 'prc1': '0', 'prc0': '0', 'per': 'na', 'asp': 'na', 'vox': 'na', 'mod': 'na', 'stt': 'i', 'cas': 'g', 'enc0': '0', 'rat': 'i', 'source': 'lex', 'form_gen': 'm', 'form_num': 's', 'd3seg': 'عَقْدٍ', 'caphi': '3_a_q_d_i_n', 'd1tok': 'عَقْدٍ', 'd2tok': 'عَقْدٍ', 'pos_logprob': -0.4344233, 'd3tok': 'عَقْدٍ', 'd2seg': 'عَقْدٍ', 'pos_lex_logprob': -3.604671, 'num': 's', 'ud': 'NOUN', 'gen': 'm', 'catib6': 'NOM', 'root': 'ع.ق.د', 'bwtok': 'عَقْد_+ٍ', 'pattern': '1َ2ْ3ٍ', 'lex_logprob': -3.604671, 'atbtok': 'عَقْدٍ', 'atbseg': 'عَقْدٍ', 'd1seg': 'عَقْدٍ', 'stem': 'عَقْد', 'stemgloss': 'holding;concluding;convening', 'stemcat': 'N'} \n",
            "\n",
            "{'diac': 'عَقْدُ', 'lex': 'عَقْد', 'bw': 'عَقْد/NOUN+ُ/CASE_DEF_NOM', 'gloss': 'holding;concluding;convening+[def.nom.]', 'pos': 'noun', 'prc3': '0', 'prc2': '0', 'prc1': '0', 'prc0': '0', 'per': 'na', 'asp': 'na', 'vox': 'na', 'mod': 'na', 'stt': 'c', 'cas': 'n', 'enc0': '0', 'rat': 'i', 'source': 'lex', 'form_gen': 'm', 'form_num': 's', 'd3seg': 'عَقْدُ', 'caphi': '3_a_q_d_u', 'd1tok': 'عَقْدُ', 'd2tok': 'عَقْدُ', 'pos_logprob': -0.4344233, 'd3tok': 'عَقْدُ', 'd2seg': 'عَقْدُ', 'pos_lex_logprob': -3.604671, 'num': 's', 'ud': 'NOUN', 'gen': 'm', 'catib6': 'NOM', 'root': 'ع.ق.د', 'bwtok': 'عَقْد_+ُ', 'pattern': '1َ2ْ3ُ', 'lex_logprob': -3.604671, 'atbtok': 'عَقْدُ', 'atbseg': 'عَقْدُ', 'd1seg': 'عَقْدُ', 'stem': 'عَقْد', 'stemgloss': 'holding;concluding;convening', 'stemcat': 'N'} \n",
            "\n",
            "{'diac': 'عُقِدَ', 'lex': 'عَقَد', 'bw': 'عُقِد/PV_PASS+َ/PVSUFF_SUBJ:3MS', 'gloss': 'be_held;be_convened;be_concluded+he;it_<verb>', 'pos': 'verb', 'prc3': '0', 'prc2': '0', 'prc1': '0', 'prc0': '0', 'per': '3', 'asp': 'p', 'vox': 'p', 'mod': 'i', 'stt': 'na', 'cas': 'na', 'enc0': '0', 'rat': 'n', 'source': 'lex', 'form_gen': 'm', 'form_num': 's', 'd3seg': 'عُقِدَ', 'caphi': '3_u_q_i_d_a', 'd1tok': 'عُقِدَ', 'd2tok': 'عُقِدَ', 'pos_logprob': -1.023208, 'd3tok': 'عُقِدَ', 'd2seg': 'عُقِدَ', 'pos_lex_logprob': -3.252875, 'num': 's', 'ud': 'VERB', 'gen': 'm', 'catib6': 'VRB-PASS', 'root': 'ع.ق.د', 'bwtok': 'عُقِد_+َ', 'pattern': '1ُ2ِ3َ', 'lex_logprob': -3.252875, 'atbtok': 'عُقِدَ', 'atbseg': 'عُقِدَ', 'd1seg': 'عُقِدَ', 'stem': 'عُقِد', 'stemgloss': 'be_held;be_convened;be_concluded', 'stemcat': 'PV_Pass'} \n",
            "\n",
            "{'diac': 'عِقْد', 'lex': 'عِقْد', 'bw': 'عِقْد/NOUN', 'gloss': 'necklace', 'pos': 'noun', 'prc3': '0', 'prc2': '0', 'prc1': '0', 'prc0': '0', 'per': 'na', 'asp': 'na', 'vox': 'na', 'mod': 'na', 'stt': 'i', 'cas': 'u', 'enc0': '0', 'rat': 'i', 'source': 'lex', 'form_gen': 'm', 'form_num': 's', 'd3seg': 'عِقْد', 'caphi': '3_i_q_d', 'd1tok': 'عِقْد', 'd2tok': 'عِقْد', 'pos_logprob': -0.4344233, 'd3tok': 'عِقْد', 'd2seg': 'عِقْد', 'pos_lex_logprob': -4.856483, 'num': 's', 'ud': 'NOUN', 'gen': 'm', 'catib6': 'NOM', 'root': 'ع.ق.د', 'bwtok': 'عِقْد', 'pattern': '1ِ2ْ3', 'lex_logprob': -4.856483, 'atbtok': 'عِقْد', 'atbseg': 'عِقْد', 'd1seg': 'عِقْد', 'stem': 'عِقْد', 'stemgloss': 'necklace', 'stemcat': 'Ndu'} \n",
            "\n",
            "{'diac': 'عِقْدَ', 'lex': 'عِقْد', 'bw': 'عِقْد/NOUN+َ/CASE_DEF_ACC', 'gloss': 'necklace+[def.acc.]', 'pos': 'noun', 'prc3': '0', 'prc2': '0', 'prc1': '0', 'prc0': '0', 'per': 'na', 'asp': 'na', 'vox': 'na', 'mod': 'na', 'stt': 'c', 'cas': 'a', 'enc0': '0', 'rat': 'i', 'source': 'lex', 'form_gen': 'm', 'form_num': 's', 'd3seg': 'عِقْدَ', 'caphi': '3_i_q_d_a', 'd1tok': 'عِقْدَ', 'd2tok': 'عِقْدَ', 'pos_logprob': -0.4344233, 'd3tok': 'عِقْدَ', 'd2seg': 'عِقْدَ', 'pos_lex_logprob': -4.856483, 'num': 's', 'ud': 'NOUN', 'gen': 'm', 'catib6': 'NOM', 'root': 'ع.ق.د', 'bwtok': 'عِقْد_+َ', 'pattern': '1ِ2ْ3َ', 'lex_logprob': -4.856483, 'atbtok': 'عِقْدَ', 'atbseg': 'عِقْدَ', 'd1seg': 'عِقْدَ', 'stem': 'عِقْد', 'stemgloss': 'necklace', 'stemcat': 'Ndu'} \n",
            "\n",
            "{'diac': 'عِقْدٌ', 'lex': 'عِقْد', 'bw': 'عِقْد/NOUN+ٌ/CASE_INDEF_NOM', 'gloss': 'necklace+[indef.nom.]', 'pos': 'noun', 'prc3': '0', 'prc2': '0', 'prc1': '0', 'prc0': '0', 'per': 'na', 'asp': 'na', 'vox': 'na', 'mod': 'na', 'stt': 'i', 'cas': 'n', 'enc0': '0', 'rat': 'i', 'source': 'lex', 'form_gen': 'm', 'form_num': 's', 'd3seg': 'عِقْدٌ', 'caphi': '3_i_q_d_u_n', 'd1tok': 'عِقْدٌ', 'd2tok': 'عِقْدٌ', 'pos_logprob': -0.4344233, 'd3tok': 'عِقْدٌ', 'd2seg': 'عِقْدٌ', 'pos_lex_logprob': -4.856483, 'num': 's', 'ud': 'NOUN', 'gen': 'm', 'catib6': 'NOM', 'root': 'ع.ق.د', 'bwtok': 'عِقْد_+ٌ', 'pattern': '1ِ2ْ3ٌ', 'lex_logprob': -4.856483, 'atbtok': 'عِقْدٌ', 'atbseg': 'عِقْدٌ', 'd1seg': 'عِقْدٌ', 'stem': 'عِقْد', 'stemgloss': 'necklace', 'stemcat': 'Ndu'} \n",
            "\n",
            "{'diac': 'عِقْدِ', 'lex': 'عِقْد', 'bw': 'عِقْد/NOUN+ِ/CASE_DEF_GEN', 'gloss': 'necklace+[def.gen.]', 'pos': 'noun', 'prc3': '0', 'prc2': '0', 'prc1': '0', 'prc0': '0', 'per': 'na', 'asp': 'na', 'vox': 'na', 'mod': 'na', 'stt': 'c', 'cas': 'g', 'enc0': '0', 'rat': 'i', 'source': 'lex', 'form_gen': 'm', 'form_num': 's', 'd3seg': 'عِقْدِ', 'caphi': '3_i_q_d_i', 'd1tok': 'عِقْدِ', 'd2tok': 'عِقْدِ', 'pos_logprob': -0.4344233, 'd3tok': 'عِقْدِ', 'd2seg': 'عِقْدِ', 'pos_lex_logprob': -4.856483, 'num': 's', 'ud': 'NOUN', 'gen': 'm', 'catib6': 'NOM', 'root': 'ع.ق.د', 'bwtok': 'عِقْد_+ِ', 'pattern': '1ِ2ْ3ِ', 'lex_logprob': -4.856483, 'atbtok': 'عِقْدِ', 'atbseg': 'عِقْدِ', 'd1seg': 'عِقْدِ', 'stem': 'عِقْد', 'stemgloss': 'necklace', 'stemcat': 'Ndu'} \n",
            "\n",
            "{'diac': 'عِقْدٍ', 'lex': 'عِقْد', 'bw': 'عِقْد/NOUN+ٍ/CASE_INDEF_GEN', 'gloss': 'necklace+[indef.gen.]', 'pos': 'noun', 'prc3': '0', 'prc2': '0', 'prc1': '0', 'prc0': '0', 'per': 'na', 'asp': 'na', 'vox': 'na', 'mod': 'na', 'stt': 'i', 'cas': 'g', 'enc0': '0', 'rat': 'i', 'source': 'lex', 'form_gen': 'm', 'form_num': 's', 'd3seg': 'عِقْدٍ', 'caphi': '3_i_q_d_i_n', 'd1tok': 'عِقْدٍ', 'd2tok': 'عِقْدٍ', 'pos_logprob': -0.4344233, 'd3tok': 'عِقْدٍ', 'd2seg': 'عِقْدٍ', 'pos_lex_logprob': -4.856483, 'num': 's', 'ud': 'NOUN', 'gen': 'm', 'catib6': 'NOM', 'root': 'ع.ق.د', 'bwtok': 'عِقْد_+ٍ', 'pattern': '1ِ2ْ3ٍ', 'lex_logprob': -4.856483, 'atbtok': 'عِقْدٍ', 'atbseg': 'عِقْدٍ', 'd1seg': 'عِقْدٍ', 'stem': 'عِقْد', 'stemgloss': 'necklace', 'stemcat': 'Ndu'} \n",
            "\n",
            "{'diac': 'عِقْدُ', 'lex': 'عِقْد', 'bw': 'عِقْد/NOUN+ُ/CASE_DEF_NOM', 'gloss': 'necklace+[def.nom.]', 'pos': 'noun', 'prc3': '0', 'prc2': '0', 'prc1': '0', 'prc0': '0', 'per': 'na', 'asp': 'na', 'vox': 'na', 'mod': 'na', 'stt': 'c', 'cas': 'n', 'enc0': '0', 'rat': 'i', 'source': 'lex', 'form_gen': 'm', 'form_num': 's', 'd3seg': 'عِقْدُ', 'caphi': '3_i_q_d_u', 'd1tok': 'عِقْدُ', 'd2tok': 'عِقْدُ', 'pos_logprob': -0.4344233, 'd3tok': 'عِقْدُ', 'd2seg': 'عِقْدُ', 'pos_lex_logprob': -4.856483, 'num': 's', 'ud': 'NOUN', 'gen': 'm', 'catib6': 'NOM', 'root': 'ع.ق.د', 'bwtok': 'عِقْد_+ُ', 'pattern': '1ِ2ْ3ُ', 'lex_logprob': -4.856483, 'atbtok': 'عِقْدُ', 'atbseg': 'عِقْدُ', 'd1seg': 'عِقْدُ', 'stem': 'عِقْد', 'stemgloss': 'necklace', 'stemcat': 'Ndu'} \n",
            "\n",
            "{'diac': 'عَقَدَ', 'lex': 'عَقَد', 'bw': 'عَقَد/PV+َ/PVSUFF_SUBJ:3MS', 'gloss': 'hold;convene;conclude+he;it_<verb>', 'pos': 'verb', 'prc3': '0', 'prc2': '0', 'prc1': '0', 'prc0': '0', 'per': '3', 'asp': 'p', 'vox': 'a', 'mod': 'i', 'stt': 'na', 'cas': 'na', 'enc0': '0', 'rat': 'n', 'source': 'lex', 'form_gen': 'm', 'form_num': 's', 'd3seg': 'عَقَدَ', 'caphi': '3_a_q_a_d_a', 'd1tok': 'عَقَدَ', 'd2tok': 'عَقَدَ', 'pos_logprob': -1.023208, 'd3tok': 'عَقَدَ', 'd2seg': 'عَقَدَ', 'pos_lex_logprob': -3.252875, 'num': 's', 'ud': 'VERB', 'gen': 'm', 'catib6': 'VRB', 'root': 'ع.ق.د', 'bwtok': 'عَقَد_+َ', 'pattern': '1َ2َ3َ', 'lex_logprob': -3.252875, 'atbtok': 'عَقَدَ', 'atbseg': 'عَقَدَ', 'd1seg': 'عَقَدَ', 'stem': 'عَقَد', 'stemgloss': 'hold;convene;conclude', 'stemcat': 'PV'} \n",
            "\n"
          ]
        }
      ]
    },
    {
      "cell_type": "markdown",
      "metadata": {
        "id": "X3KV4vNDDtG8"
      },
      "source": [
        "Let's examine just one of the output analyses generated from another word ('وسيكتبونها') to get a better idea of the verious morphological and lexical features that we provide. We provide a [handy reference page](https://camel-tools.readthedocs.io/en/latest/reference/camel_morphology_features.html) that explains what these features are and what their values mean."
      ]
    },
    {
      "cell_type": "markdown",
      "metadata": {
        "id": "EcfmX4eZ088z"
      },
      "source": [
        "```\n",
        "diac: وَسَيَكْتُبُونَها\n",
        "lex: كَتَب-u_1\n",
        "bw: وَ/CONJ+سَ/FUT_PART+يَ/IV3MP+كْتُب/IV+ُونَ/IVSUFF_SUBJ:MP_MOOD:I+ها/IVSUFF_DO:3FS\n",
        "gloss: and_+_will_+_they_(people)+write+it;them;her\n",
        "pos: verb\n",
        "prc3: 0\n",
        "prc2: wa_conj\n",
        "prc1: sa_fut\n",
        "prc0: 0\n",
        "per: 3\n",
        "asp: i\n",
        "vox: a\n",
        "mod: i\n",
        "stt: na\n",
        "cas: na\n",
        "enc0: 3fs_dobj\n",
        "rat: n\n",
        "source: lex\n",
        "form_gen: m\n",
        "form_num: p\n",
        "pattern: وَسَيَ1ْ2ُ3ُونَها\n",
        "root: ك.ت.ب\n",
        "catib6: PRT+PRT+VRB+NOM\n",
        "ud: CONJ+AUX+VERB+PRON\n",
        "d1seg: وَ+_سَيَكْتُبُونَها\n",
        "d1tok: وَ+_سَيَكْتُبُونَها\n",
        "atbseg: وَ+_سَ+_يَكْتُبُونَ_+ها\n",
        "d3seg: وَ+_سَ+_يَكْتُبُونَ_+ها\n",
        "d2seg: وَ+_سَ+_يَكْتُبُونَها\n",
        "d2tok: وَ+_سَ+_يَكْتُبُونَها\n",
        "atbtok: وَ+_سَ+_يَكْتُبُونَ_+ها\n",
        "d3tok: وَ+_سَ+_يَكْتُبُونَ_+ها\n",
        "bwtok: وَ+_سَ+_يَ+_كْتُب_+ُونَ_+ها\n",
        "pos_lex_logprob: -3.648503\n",
        "caphi: w_a_s_a_y_a_k_t_u_b_uu_n_a_h_aa\n",
        "pos_logprob: -1.023208\n",
        "gen: m\n",
        "lex_logprob: -3.648503\n",
        "num: p\n",
        "stem: كْتُب\n",
        "stemgloss: write\n",
        "stemcat: IV\n",
        "```"
      ]
    },
    {
      "cell_type": "markdown",
      "metadata": {
        "id": "UfO9gxQy0880"
      },
      "source": [
        "## Generation\n",
        "\n",
        "Generation is the process of inflecting a lemma\n",
        "for a set of morphological features. The example below generates all the possible inflections for the lemma 'مُوَظَّف' (employee) that are masculine plural nouns."
      ]
    },
    {
      "cell_type": "code",
      "metadata": {
        "id": "ESM-zdQ50881",
        "colab": {
          "base_uri": "https://localhost:8080/"
        },
        "outputId": "0f23bfac-9626-420d-e182-daf13d8265b8"
      },
      "source": [
        "from camel_tools.morphology.database import MorphologyDB\n",
        "from camel_tools.morphology.generator import Generator\n",
        "\n",
        "# We need to indicate that the database we are loading will be\n",
        "# used for generation.\n",
        "db = MorphologyDB.builtin_db(flags='g')\n",
        "\n",
        "generator = Generator(db)\n",
        "\n",
        "lemma = 'مُوَظَّف'\n",
        "features = {\n",
        "    'pos': 'noun',\n",
        "    'gen': 'm',\n",
        "    'num': 'p'\n",
        "}\n",
        "\n",
        "analyses = generator.generate(lemma, features)\n",
        "\n",
        "# Extract and print unique diacritizations from generated analyses\n",
        "for diac in set([a['diac'] for a in analyses]):\n",
        "    print(diac)"
      ],
      "execution_count": null,
      "outputs": [
        {
          "output_type": "stream",
          "name": "stdout",
          "text": [
            "مُوَظَّفُو\n",
            "مُوَظَّفُونَ\n",
            "مُوَظَّفِي\n",
            "مُوَظَّفِينَ\n"
          ]
        }
      ]
    },
    {
      "cell_type": "markdown",
      "metadata": {
        "id": "kHa3zXmnFl15"
      },
      "source": [
        "**NOTE:** `'pos'` is the only *required* feature that needs to be specified."
      ]
    },
    {
      "cell_type": "markdown",
      "metadata": {
        "id": "0Z45XwXQ0881"
      },
      "source": [
        "## Reinflection\n",
        "\n",
        "Reinflection is the process of converting a given word in any form to a different form (i.e. tense, gender, etc). The CAMeL Tools reinflector works similar to the generator except that the word doesn't have to be a lemma and it is not have to be restricted to a specific `'pos'`. The example below reinflects the word 'شوارع' (streets) into its dual form with a proclitic 'ب'."
      ]
    },
    {
      "cell_type": "code",
      "metadata": {
        "id": "gAffYSc60881",
        "colab": {
          "base_uri": "https://localhost:8080/"
        },
        "outputId": "99f6e724-f5d4-4006-add5-1118fec039f7"
      },
      "source": [
        "from camel_tools.morphology.database import MorphologyDB\n",
        "from camel_tools.morphology.reinflector import Reinflector\n",
        "\n",
        "# We need to indicate that the database we are loading will be\n",
        "# used for reinflection.\n",
        "db = MorphologyDB.builtin_db(flags='r')\n",
        "\n",
        "reinflector = Reinflector(db)\n",
        "\n",
        "word = 'شوارع'\n",
        "features = {\n",
        "    'num': 'd',\n",
        "    'prc1': 'bi_prep'\n",
        "}\n",
        "\n",
        "analyses = reinflector.reinflect(word, features)\n",
        "\n",
        "# Extract and print unique diacritizations from reinflected analyses\n",
        "for diac in set([a['diac'] for a in analyses]):\n",
        "    print(diac)"
      ],
      "execution_count": null,
      "outputs": [
        {
          "output_type": "stream",
          "name": "stdout",
          "text": [
            "بِشارِعَيْنِ\n",
            "بِشارِعَيْ\n"
          ]
        }
      ]
    },
    {
      "cell_type": "markdown",
      "metadata": {
        "id": "XYTXsWdA0882"
      },
      "source": [
        "# Disambiguation"
      ]
    },
    {
      "cell_type": "markdown",
      "metadata": {
        "id": "AQgWp4XiGIUT"
      },
      "source": [
        "Disambiguation is the process of determining what is the most likely analysis of a word in a given context. In CAMeL Tools, disambiguation is the backbone for many Arabic NLP tasks such as diacritization, POS tagging and morphological tokenization. At the moment, we provide two disambiguation models: one that uses a Maximum Likelihood Estimation model [`MLEDisambiguator`](https://camel-tools.readthedocs.io/en/latest/api/disambig/mle.html#camel_tools.disambig.mle.MLEDisambiguator), and one that uses an unfactored BERT model[`BERTUnfactoredDisambiguator`](https://camel-tools.readthedocs.io/en/latest/api/disambig/bert.html#camel_tools.disambig.bert.BERTUnfactoredDisambiguator).\n",
        "\n",
        "In the example below, we use a `MLEDisambiguator` to compute the most likely diacritization, POS tag, and lemma for all words in a given sentence."
      ]
    },
    {
      "cell_type": "code",
      "metadata": {
        "colab": {
          "base_uri": "https://localhost:8080/"
        },
        "id": "XRic4ub10888",
        "outputId": "43bb40ad-3f74-4b92-cdec-43d0e7ea0f31"
      },
      "source": [
        "from camel_tools.tokenizers.word import simple_word_tokenize\n",
        "from camel_tools.disambig.mle import MLEDisambiguator\n",
        "\n",
        "mle = MLEDisambiguator.pretrained()\n",
        "\n",
        "# The disambiguator expects pre-tokenized text\n",
        "sentence = simple_word_tokenize('تم تجديد عقد عمل لجنة مكافحة الجرائم الإلكترونية.')\n",
        "\n",
        "disambig = mle.disambiguate(sentence)\n",
        "\n",
        "# For each disambiguated word d in disambig, d.analyses is a list of analyses\n",
        "# sorted from most likely to least likely. Therefore, d.analyses[0] would\n",
        "# be the most likely analysis for a given word. Below we extract different\n",
        "# features from the top analysis of each disambiguated word into seperate lists.\n",
        "diacritized = [d.analyses[0].analysis['diac'] for d in disambig]\n",
        "pos_tags = [d.analyses[0].analysis['pos'] for d in disambig]\n",
        "lemmas = [d.analyses[0].analysis['lex'] for d in disambig]\n",
        "\n",
        "# Print the combined feature values extracted above\n",
        "for triplet in zip(diacritized, pos_tags, lemmas):\n",
        "    print(triplet)\n"
      ],
      "execution_count": null,
      "outputs": [
        {
          "output_type": "stream",
          "name": "stdout",
          "text": [
            "('تَمَّ', 'verb', 'تَمّ')\n",
            "('تَجْدِيدِ', 'noun', 'تَجْدِيد')\n",
            "('عَقْدِ', 'noun', 'عَقْد')\n",
            "('عَمَلٍ', 'noun', 'عَمَل')\n",
            "('لَجْنَةِ', 'noun', 'لَجْنَة')\n",
            "('مُكافَحَةِ', 'noun', 'مُكافَحَة')\n",
            "('الجَرائِمِ', 'noun', 'جَرِيمَة')\n",
            "('الإِلِكْترُونِيَّةِ', 'adj', 'إِلِكْترُونِيّ')\n",
            "('.', 'punc', '.')\n"
          ]
        }
      ]
    },
    {
      "cell_type": "markdown",
      "source": [
        "And below is the example using a `BERTUnfactoredDisambiguator`:"
      ],
      "metadata": {
        "id": "vtDsR6iRHFb1"
      }
    },
    {
      "cell_type": "code",
      "metadata": {
        "colab": {
          "base_uri": "https://localhost:8080/"
        },
        "outputId": "12c8ddd6-5868-4fb3-d2fc-e4d22cdcd0e9",
        "id": "LLXCgUI7HS7J"
      },
      "source": [
        "from camel_tools.tokenizers.word import simple_word_tokenize\n",
        "from camel_tools.disambig.bert import BERTUnfactoredDisambiguator\n",
        "\n",
        "# Suppress warnings\n",
        "from transformers import logging\n",
        "logging.set_verbosity_error()\n",
        "\n",
        "bert = BERTUnfactoredDisambiguator.pretrained()\n",
        "\n",
        "# The disambiguator expects pre-tokenized text\n",
        "sentence = simple_word_tokenize('تم تجديد عقد عمل لجنة مكافحة الجرائم الإلكترونية.')\n",
        "\n",
        "disambig = bert.disambiguate(sentence)\n",
        "\n",
        "# For each disambiguated word d in disambig, d.analyses is a list of analyses\n",
        "# sorted from most likely to least likely. Therefore, d.analyses[0] would\n",
        "# be the most likely analysis for a given word. Below we extract different\n",
        "# features from the top analysis of each disambiguated word into seperate lists.\n",
        "diacritized = [d.analyses[0].analysis['diac'] for d in disambig]\n",
        "pos_tags = [d.analyses[0].analysis['pos'] for d in disambig]\n",
        "lemmas = [d.analyses[0].analysis['lex'] for d in disambig]\n",
        "\n",
        "# Print the combined feature values extracted above\n",
        "for triplet in zip(diacritized, pos_tags, lemmas):\n",
        "    print(triplet)\n"
      ],
      "execution_count": null,
      "outputs": [
        {
          "output_type": "stream",
          "name": "stdout",
          "text": [
            "('تَمَّ', 'verb', 'تَمّ')\n",
            "('تَجْدِيدُ', 'noun', 'تَجْدِيد')\n",
            "('عَقْدِ', 'noun', 'عَقْد')\n",
            "('عَمَلِ', 'noun', 'عَمَل')\n",
            "('لَجْنَةِ', 'noun', 'لَجْنَة')\n",
            "('مُكافَحَةِ', 'noun', 'مُكافَحَة')\n",
            "('الجَرائِمِ', 'noun', 'جَرِيمَة')\n",
            "('الإِلِكْترُونِيَّةِ', 'adj', 'إِلِكْترُونِيّ')\n",
            "('.', 'punc', '.')\n"
          ]
        }
      ]
    },
    {
      "cell_type": "markdown",
      "metadata": {
        "id": "kMTRdw4g0888"
      },
      "source": [
        "# Tagging"
      ]
    },
    {
      "cell_type": "markdown",
      "metadata": {
        "id": "YoYy16RApKQX"
      },
      "source": [
        "The disambiguation example above is not very readable due to the amount of list and dictionary dereferencing just to extract a feature.\n",
        "Additionally, for general tagging applications, extracting a feature from the top analysis is not sufficient.\n",
        "There are some edge cases that need to be handled. For example, a word could return no analyses at all if the word isn't in the morphological database. We would then need to check the result of each disambiguated word to see if an analysis exists and then output some default value if not. Furthermore, the default value would differ depending on what feature we are tagging.\n",
        "\n",
        "To handle these edge cases and to simplify the usage of a disambiguator, we provide the [`DefaultTagger`](https://camel-tools.readthedocs.io/en/latest/api/tagger/default.html#camel_tools.tagger.default.DefaultTagger) class which wraps a disambiguator and handles edge cases by providing sensible default values. The example below shows"
      ]
    },
    {
      "cell_type": "code",
      "metadata": {
        "id": "6ToGeNYB0889",
        "colab": {
          "base_uri": "https://localhost:8080/"
        },
        "outputId": "236f61bc-3c4e-4c2a-b803-364aad30f178"
      },
      "source": [
        "from camel_tools.tokenizers.word import simple_word_tokenize\n",
        "from camel_tools.disambig.mle import MLEDisambiguator\n",
        "from camel_tools.tagger.default import DefaultTagger\n",
        "\n",
        "mle = MLEDisambiguator.pretrained()\n",
        "tagger = DefaultTagger(mle, 'pos')\n",
        "\n",
        "# The tagger expects pre-tokenized text\n",
        "sentence = simple_word_tokenize('تم تجديد عقد عمل لجنة مكافحة الجرائم الإلكترونية.')\n",
        "\n",
        "pos_tags = tagger.tag(sentence)\n",
        "\n",
        "print(pos_tags)"
      ],
      "execution_count": null,
      "outputs": [
        {
          "output_type": "stream",
          "name": "stdout",
          "text": [
            "['verb', 'noun', 'noun', 'noun', 'noun', 'noun', 'noun', 'adj', 'punc']\n"
          ]
        }
      ]
    },
    {
      "cell_type": "markdown",
      "metadata": {
        "id": "7uuXeQjd0889"
      },
      "source": [
        "# Morphological Tokenization\n",
        "\n"
      ]
    },
    {
      "cell_type": "markdown",
      "metadata": {
        "id": "KmeKhpPVsI69"
      },
      "source": [
        "Previously we discussed word tokenization as the process of splitting sentences by whitspace and seperating punctuation. Another type of tokenization is morphological tokenization whereby Arabic words are split into component prefixes, stems, and suffixes.\n",
        "\n",
        "There are also different tokenization schemes for Arabic each having different use cases.\n",
        "\n",
        "We provide the [`MorphologicalTokenizer`](https://camel-tools.readthedocs.io/en/latest/api/tokenizers/morphological.html#camel_tools.tokenizers.morphological.MorphologicalTokenizer) class to tokenize words in different schemes. It behaves very much like the `DefaultTagger` in that it uses a disambiguator to first disambiguate words and then extracts a particular tokenization feature, but it has the following differences:\n",
        "\n",
        "- While the `DefaultTagger` produces exactly one output for each input word, the `MorphologicalTokenizer` might produce multiple output tokens.\n",
        "-  The `MorphologicalTokenizer` can be configured to produce diacritized and undiacritized output."
      ]
    },
    {
      "cell_type": "code",
      "metadata": {
        "id": "Upf_eeVE0889",
        "colab": {
          "base_uri": "https://localhost:8080/"
        },
        "outputId": "702e2226-f75e-40bc-99a5-936f27eae4a2"
      },
      "source": [
        "from camel_tools.tokenizers.word import simple_word_tokenize\n",
        "from camel_tools.disambig.mle import MLEDisambiguator\n",
        "from camel_tools.tokenizers.morphological import MorphologicalTokenizer\n",
        "\n",
        "# The tokenizer expects pre-tokenized text\n",
        "sentence = simple_word_tokenize('فتنفست الصعداء')\n",
        "print(sentence)\n",
        "\n",
        "# Load a pretrained disambiguator to use with a tokenizer\n",
        "mle = MLEDisambiguator.pretrained('calima-msa-r13')\n",
        "\n",
        "# Without providing additional arguments, the tokenizer will output undiacritized\n",
        "# morphological tokens for each input word delimited by an underscore.\n",
        "tokenizer = MorphologicalTokenizer(mle, scheme='d3tok')\n",
        "tokens = tokenizer.tokenize(sentence)\n",
        "print(tokens)\n",
        "\n",
        "# By specifying `split=True`, the morphological tokens are output as seperate\n",
        "# strings.\n",
        "tokenizer = MorphologicalTokenizer(mle, scheme='d3tok', split=True)\n",
        "tokens = tokenizer.tokenize(sentence)\n",
        "print(tokens)\n",
        "\n",
        "# We can output diacritized tokens by setting `diac=True`\n",
        "tokenizer = MorphologicalTokenizer(mle, scheme='d3tok', split=True, diac=True)\n",
        "tokens = tokenizer.tokenize(sentence)\n",
        "print(tokens)"
      ],
      "execution_count": null,
      "outputs": [
        {
          "output_type": "stream",
          "name": "stdout",
          "text": [
            "['فتنفست', 'الصعداء']\n",
            "['ف+_تنفست', 'ال+_صعداء']\n",
            "['ف+', 'تنفست', 'ال+', 'صعداء']\n",
            "['فَ+', 'تَنَفَّسَت', 'ال+', 'صُعَداءَ']\n"
          ]
        }
      ]
    },
    {
      "cell_type": "markdown",
      "metadata": {
        "id": "MaxVSNFH5QHi"
      },
      "source": [
        "We can see a list of supported tokenization schemes by calling the `mle.tok_feats()`.\n",
        "\n",
        "**NOTE:** Different morphological databases will have differing support for each of these tokenization schemes."
      ]
    },
    {
      "cell_type": "code",
      "metadata": {
        "colab": {
          "base_uri": "https://localhost:8080/"
        },
        "id": "Pb9dvHok43XH",
        "outputId": "6066615c-5893-49c1-ed57-4e99f705a654"
      },
      "source": [
        "print(list(mle.tok_feats()))"
      ],
      "execution_count": null,
      "outputs": [
        {
          "output_type": "stream",
          "name": "stdout",
          "text": [
            "['atbtok', 'd3tok', 'd1tok', 'atbseg', 'd3seg', 'd2seg', 'bwtok', 'd2tok', 'd1seg']\n"
          ]
        }
      ]
    },
    {
      "cell_type": "markdown",
      "metadata": {
        "id": "e7hm9JjJ40u8"
      },
      "source": [
        "Try running the previous example using a different scheme than 'd3tok' to see how the output tokenization might vary."
      ]
    },
    {
      "cell_type": "markdown",
      "metadata": {
        "id": "-GMeBGri088-"
      },
      "source": [
        "# Dialect Identification\n",
        "\n",
        "We provide two pretrained dialect identification models:\n",
        "[`DIDModel26`](https://camel-tools.readthedocs.io/en/latest/api/dialectid.html#camel_tools.dialectid.DIDModel26) that can distinguish between 25 city dialects as well as Modern Standard Arabic (MSA),\n",
        "and [`DIDModel6`](https://camel-tools.readthedocs.io/en/latest/api/dialectid.html#camel_tools.dialectid.DIDModel6) that can distinguish between 5 city dialects and MSA.\n",
        "In addition to city dialects, we can provide results aggregated by region and by country. While these agregated results are less fine-grained, they tend to be more accurate.\n",
        "\n",
        "The example below illustrates how `DIDModel26` can be used to predict the dialects of given sentences by city, country and region.\n",
        "\n",
        "**NOTE:** You may get some warnings when running the example below in Colab. These can be safely ignored."
      ]
    },
    {
      "cell_type": "code",
      "metadata": {
        "colab": {
          "base_uri": "https://localhost:8080/"
        },
        "id": "9YpWxBAm088-",
        "outputId": "22f21637-d6ae-4a48-bf67-7c7384b4f380"
      },
      "source": [
        "from camel_tools.dialectid import DIDModel26\n",
        "\n",
        "# Suppress warnings\n",
        "import warnings\n",
        "warnings.filterwarnings(\"ignore\")\n",
        "\n",
        "sentences = [\n",
        "    'مال الهوى و مالي شكون اللي جابني ليك  ما كنت انايا ف حالي بلاو قلبي يانا بيك',\n",
        "    'بدي دوب قلي قلي بجنون بحبك انا مجنون ما بنسى حبك يوم'\n",
        "]\n",
        "\n",
        "did = DIDModel26.pretrained()\n",
        "\n",
        "predictions = did.predict(sentences, 'city')\n",
        "print([p.top for p in predictions])\n",
        "\n",
        "predictions = did.predict(sentences, 'country')\n",
        "print([p.top for p in predictions])\n",
        "\n",
        "predictions = did.predict(sentences, 'region')\n",
        "print([p.top for p in predictions])"
      ],
      "execution_count": null,
      "outputs": [
        {
          "output_type": "stream",
          "name": "stdout",
          "text": [
            "['Rabat', 'Aleppo']\n",
            "['Morocco', 'Syria']\n",
            "['Maghreb', 'Levant']\n"
          ]
        }
      ]
    },
    {
      "cell_type": "markdown",
      "source": [
        "In the following example, we will print the prediction scores for each city dialect using `DIDModel6`."
      ],
      "metadata": {
        "id": "mY5omJWDhYsg"
      }
    },
    {
      "cell_type": "code",
      "metadata": {
        "id": "rUV653GstNC7"
      },
      "source": [
        "from camel_tools.dialectid import DIDModel6\n",
        "\n",
        "# Suppress warnings\n",
        "import warnings\n",
        "warnings.filterwarnings(\"ignore\")\n",
        "\n",
        "\n",
        "sentences = [\n",
        "    'مال الهوى و مالي شكون اللي جابني ليك  ما كنت انايا ف حالي بلاو قلبي يانا بيك',\n",
        "    'بدي دوب قلي قلي بجنون بحبك انا مجنون ما بنسى حبك يوم'\n",
        "]\n",
        "\n",
        "did = DIDModel6.pretrained()\n",
        "\n",
        "predictions = did.predict(sentences, 'city')\n",
        "for p in predictions:\n",
        "    # p.scores is a dictionary mapping each dialect to its computed score.\n",
        "    # Sort dialect-score pairs in descending score order\n",
        "    scores = sorted(p.scores.items(), key=lambda x: x[1], reverse=True)\n",
        "\n",
        "    # Round scores to 3 decimal points\n",
        "    scores = [(s[0], round(s[1], 3)) for s in scores]\n",
        "\n",
        "    print(scores)"
      ],
      "execution_count": null,
      "outputs": []
    },
    {
      "cell_type": "markdown",
      "metadata": {
        "id": "IiIPcZcx088_"
      },
      "source": [
        "# Sentiment Analysis\n",
        "\n",
        "We provide a pretrained [sentiment analysis](https://en.wikipedia.org/wiki/Sentiment_analysis) system that has been trained using a combination of multiple data sets. The model can be accessed using the [`SentimentAnalyzer`](https://camel-tools.readthedocs.io/en/latest/api/sentiment.html#camel_tools.sentiment.SentimentAnalyzer) class and it outputs one of three sentiment tags for each sentence: `'positive'`, `'negative'` and `'neutral'`. The example below demonstrates how it can be used."
      ]
    },
    {
      "cell_type": "code",
      "metadata": {
        "id": "nWSDfRYd088_"
      },
      "source": [
        "from camel_tools.sentiment import SentimentAnalyzer\n",
        "\n",
        "sa = SentimentAnalyzer.pretrained()\n",
        "\n",
        "sentences = [\n",
        "    'أنا بخير',\n",
        "    'أنا لست بخير'\n",
        "]\n",
        "\n",
        "sentiments = sa.predict(sentences)\n",
        "\n",
        "print(sentiments)"
      ],
      "execution_count": null,
      "outputs": []
    },
    {
      "cell_type": "markdown",
      "metadata": {
        "id": "1jo6RMNz088_"
      },
      "source": [
        "# Named Entitiy Recognition\n",
        "\n",
        "CAMeL Tools comes with an easy-to-use, pretrained [named-entitity recognition](https://en.wikipedia.org/wiki/Named-entity_recognition)  (NER) system that can be accessed using the [`NERecognizer`](https://camel-tools.readthedocs.io/en/latest/api/ner.html#camel_tools.ner.NERecognizer) class.\n",
        "\n",
        "For each token in an input sentence, `NERecognizer` outputs a label that indicates the type of named-entity.The system outputs one of the following labels for each token: `'B-LOC'`, `'B-ORG'`, `'B-PERS'`, `'B-MISC'`, `'I-LOC'`, `'I-ORG'`, `'I-PERS'`, `'I-MISC'`, `'O'`.\n",
        "Named-entites can either be a `LOC` (location), `ORG` (organization), `PERS` (person), or `MISC` (miscallaneous).\n",
        "\n",
        "Labels beginning with `B` indicate that their corresponding tokens are the begininging of a multi-word named-entity or is a single-token named-entity'. Those begining with `I` indicate that their corresponding tokens are continuations of a multi-word named-entity. Words that aren't named-entities are given the `'O'` label.\n",
        "\n",
        "The example below illustrates how `NERecognizer` can be used to label named-entities in a given sentence.\n"
      ]
    },
    {
      "cell_type": "code",
      "metadata": {
        "id": "gwBGDtiY088_"
      },
      "source": [
        "from camel_tools.tokenizers.word import simple_word_tokenize\n",
        "from camel_tools.ner import NERecognizer\n",
        "\n",
        "ner = NERecognizer.pretrained()\n",
        "\n",
        "# NERecognizer expects pre-tokenized text\n",
        "sentence = simple_word_tokenize('إمارة أبوظبي هي إحدى إمارات دولة الإمارات العربية المتحدة السبع.')\n",
        "\n",
        "labels = ner.predict_sentence(sentence)\n",
        "\n",
        "# Print each token paired with it's NER label\n",
        "print(list(zip(sentence, labels)))"
      ],
      "execution_count": null,
      "outputs": []
    }
  ]
}